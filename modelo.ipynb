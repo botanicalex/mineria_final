{
 "cells": [
  {
   "cell_type": "markdown",
   "metadata": {},
   "source": [
    "Punto 4"
   ]
  },
  {
   "cell_type": "code",
   "execution_count": 6,
   "metadata": {},
   "outputs": [
    {
     "name": "stdout",
     "output_type": "stream",
     "text": [
      "Requirement already satisfied: imblearn in c:\\users\\alexa\\appdata\\local\\programs\\python\\python313\\lib\\site-packages (0.0)\n",
      "Requirement already satisfied: imbalanced-learn in c:\\users\\alexa\\appdata\\local\\programs\\python\\python313\\lib\\site-packages (from imblearn) (0.13.0)\n",
      "Requirement already satisfied: numpy<3,>=1.24.3 in c:\\users\\alexa\\appdata\\local\\programs\\python\\python313\\lib\\site-packages (from imbalanced-learn->imblearn) (2.2.6)\n",
      "Requirement already satisfied: scipy<2,>=1.10.1 in c:\\users\\alexa\\appdata\\local\\programs\\python\\python313\\lib\\site-packages (from imbalanced-learn->imblearn) (1.15.3)\n",
      "Requirement already satisfied: scikit-learn<2,>=1.3.2 in c:\\users\\alexa\\appdata\\local\\programs\\python\\python313\\lib\\site-packages (from imbalanced-learn->imblearn) (1.6.1)\n",
      "Requirement already satisfied: sklearn-compat<1,>=0.1 in c:\\users\\alexa\\appdata\\local\\programs\\python\\python313\\lib\\site-packages (from imbalanced-learn->imblearn) (0.1.3)\n",
      "Requirement already satisfied: joblib<2,>=1.1.1 in c:\\users\\alexa\\appdata\\local\\programs\\python\\python313\\lib\\site-packages (from imbalanced-learn->imblearn) (1.5.0)\n",
      "Requirement already satisfied: threadpoolctl<4,>=2.0.0 in c:\\users\\alexa\\appdata\\local\\programs\\python\\python313\\lib\\site-packages (from imbalanced-learn->imblearn) (3.6.0)\n",
      "Note: you may need to restart the kernel to use updated packages.\n"
     ]
    },
    {
     "name": "stderr",
     "output_type": "stream",
     "text": [
      "\n",
      "[notice] A new release of pip is available: 25.0.1 -> 25.1.1\n",
      "[notice] To update, run: python.exe -m pip install --upgrade pip\n"
     ]
    }
   ],
   "source": [
    "pip install imblearn"
   ]
  },
  {
   "cell_type": "code",
   "execution_count": 28,
   "metadata": {},
   "outputs": [],
   "source": [
    "import pandas as pd\n",
    "from sklearn.model_selection import train_test_split\n",
    "from imblearn.over_sampling import SMOTE\n",
    "from sklearn.preprocessing import StandardScaler\n",
    "from sklearn.model_selection import cross_val_score, StratifiedKFold\n",
    "import seaborn as sns\n",
    "import matplotlib.pyplot as plt\n",
    "\n"
   ]
  },
  {
   "cell_type": "code",
   "execution_count": 2,
   "metadata": {},
   "outputs": [
    {
     "data": {
      "text/html": [
       "<div>\n",
       "<style scoped>\n",
       "    .dataframe tbody tr th:only-of-type {\n",
       "        vertical-align: middle;\n",
       "    }\n",
       "\n",
       "    .dataframe tbody tr th {\n",
       "        vertical-align: top;\n",
       "    }\n",
       "\n",
       "    .dataframe thead th {\n",
       "        text-align: right;\n",
       "    }\n",
       "</style>\n",
       "<table border=\"1\" class=\"dataframe\">\n",
       "  <thead>\n",
       "    <tr style=\"text-align: right;\">\n",
       "      <th></th>\n",
       "      <th>TIEMPO DE GESTACION</th>\n",
       "      <th>NUMERO CONSULTAS PRENATALES</th>\n",
       "      <th>APGAR1</th>\n",
       "      <th>EDAD MADRE</th>\n",
       "      <th>NUMERO HIJOS NACIDOS VIVOS</th>\n",
       "      <th>NUMERO EMBARAZOS</th>\n",
       "      <th>TIPO PARTO_CESAREA</th>\n",
       "      <th>TIPO PARTO_ESPONTANEO</th>\n",
       "      <th>TIPO PARTO_INSTRUMENTADO</th>\n",
       "      <th>MULTIPLICIDAD EMBARAZO_DOBLE</th>\n",
       "      <th>MULTIPLICIDAD EMBARAZO_SIMPLE</th>\n",
       "      <th>MULTIPLICIDAD EMBARAZO_TRIPLE</th>\n",
       "      <th>SEXO_MASCULINO</th>\n",
       "      <th>APGAR2_BAJO</th>\n",
       "      <th>INDICE_MASA_NEONATAL</th>\n",
       "    </tr>\n",
       "  </thead>\n",
       "  <tbody>\n",
       "    <tr>\n",
       "      <th>0</th>\n",
       "      <td>37.0</td>\n",
       "      <td>7</td>\n",
       "      <td>9.0</td>\n",
       "      <td>18</td>\n",
       "      <td>1</td>\n",
       "      <td>1</td>\n",
       "      <td>False</td>\n",
       "      <td>True</td>\n",
       "      <td>False</td>\n",
       "      <td>False</td>\n",
       "      <td>True</td>\n",
       "      <td>False</td>\n",
       "      <td>False</td>\n",
       "      <td>0</td>\n",
       "      <td>1.209194</td>\n",
       "    </tr>\n",
       "    <tr>\n",
       "      <th>1</th>\n",
       "      <td>40.0</td>\n",
       "      <td>7</td>\n",
       "      <td>9.0</td>\n",
       "      <td>23</td>\n",
       "      <td>2</td>\n",
       "      <td>4</td>\n",
       "      <td>False</td>\n",
       "      <td>True</td>\n",
       "      <td>False</td>\n",
       "      <td>False</td>\n",
       "      <td>True</td>\n",
       "      <td>False</td>\n",
       "      <td>True</td>\n",
       "      <td>0</td>\n",
       "      <td>1.441753</td>\n",
       "    </tr>\n",
       "    <tr>\n",
       "      <th>2</th>\n",
       "      <td>38.0</td>\n",
       "      <td>7</td>\n",
       "      <td>9.0</td>\n",
       "      <td>25</td>\n",
       "      <td>1</td>\n",
       "      <td>1</td>\n",
       "      <td>False</td>\n",
       "      <td>True</td>\n",
       "      <td>False</td>\n",
       "      <td>False</td>\n",
       "      <td>True</td>\n",
       "      <td>False</td>\n",
       "      <td>True</td>\n",
       "      <td>0</td>\n",
       "      <td>1.356017</td>\n",
       "    </tr>\n",
       "    <tr>\n",
       "      <th>3</th>\n",
       "      <td>38.0</td>\n",
       "      <td>4</td>\n",
       "      <td>9.0</td>\n",
       "      <td>26</td>\n",
       "      <td>1</td>\n",
       "      <td>1</td>\n",
       "      <td>False</td>\n",
       "      <td>True</td>\n",
       "      <td>False</td>\n",
       "      <td>False</td>\n",
       "      <td>True</td>\n",
       "      <td>False</td>\n",
       "      <td>False</td>\n",
       "      <td>0</td>\n",
       "      <td>1.242644</td>\n",
       "    </tr>\n",
       "    <tr>\n",
       "      <th>4</th>\n",
       "      <td>35.0</td>\n",
       "      <td>4</td>\n",
       "      <td>9.0</td>\n",
       "      <td>31</td>\n",
       "      <td>3</td>\n",
       "      <td>5</td>\n",
       "      <td>False</td>\n",
       "      <td>True</td>\n",
       "      <td>False</td>\n",
       "      <td>False</td>\n",
       "      <td>True</td>\n",
       "      <td>False</td>\n",
       "      <td>False</td>\n",
       "      <td>0</td>\n",
       "      <td>1.252028</td>\n",
       "    </tr>\n",
       "  </tbody>\n",
       "</table>\n",
       "</div>"
      ],
      "text/plain": [
       "   TIEMPO DE GESTACION  NUMERO CONSULTAS PRENATALES  APGAR1  EDAD MADRE  \\\n",
       "0                 37.0                            7     9.0          18   \n",
       "1                 40.0                            7     9.0          23   \n",
       "2                 38.0                            7     9.0          25   \n",
       "3                 38.0                            4     9.0          26   \n",
       "4                 35.0                            4     9.0          31   \n",
       "\n",
       "   NUMERO HIJOS NACIDOS VIVOS  NUMERO EMBARAZOS  TIPO PARTO_CESAREA  \\\n",
       "0                           1                 1               False   \n",
       "1                           2                 4               False   \n",
       "2                           1                 1               False   \n",
       "3                           1                 1               False   \n",
       "4                           3                 5               False   \n",
       "\n",
       "   TIPO PARTO_ESPONTANEO  TIPO PARTO_INSTRUMENTADO  \\\n",
       "0                   True                     False   \n",
       "1                   True                     False   \n",
       "2                   True                     False   \n",
       "3                   True                     False   \n",
       "4                   True                     False   \n",
       "\n",
       "   MULTIPLICIDAD EMBARAZO_DOBLE  MULTIPLICIDAD EMBARAZO_SIMPLE  \\\n",
       "0                         False                           True   \n",
       "1                         False                           True   \n",
       "2                         False                           True   \n",
       "3                         False                           True   \n",
       "4                         False                           True   \n",
       "\n",
       "   MULTIPLICIDAD EMBARAZO_TRIPLE  SEXO_MASCULINO  APGAR2_BAJO  \\\n",
       "0                          False           False            0   \n",
       "1                          False            True            0   \n",
       "2                          False            True            0   \n",
       "3                          False           False            0   \n",
       "4                          False           False            0   \n",
       "\n",
       "   INDICE_MASA_NEONATAL  \n",
       "0              1.209194  \n",
       "1              1.441753  \n",
       "2              1.356017  \n",
       "3              1.242644  \n",
       "4              1.252028  "
      ]
     },
     "execution_count": 2,
     "metadata": {},
     "output_type": "execute_result"
    }
   ],
   "source": [
    "# Cargar el dataset preparado en el notebook anterior\n",
    "df = pd.read_csv(\"df_preparado_para_modelado.csv\")\n",
    "\n",
    "df.head()"
   ]
  },
  {
   "cell_type": "code",
   "execution_count": 4,
   "metadata": {},
   "outputs": [
    {
     "name": "stdout",
     "output_type": "stream",
     "text": [
      "Distribución en entrenamiento: APGAR2_BAJO\n",
      "0    0.985877\n",
      "1    0.014123\n",
      "Name: proportion, dtype: float64\n",
      "Distribución en prueba: APGAR2_BAJO\n",
      "0    0.985691\n",
      "1    0.014309\n",
      "Name: proportion, dtype: float64\n"
     ]
    }
   ],
   "source": [
    "X = df.drop(columns='APGAR2_BAJO')\n",
    "y = df['APGAR2_BAJO']\n",
    "\n",
    "# División en entrenamiento y prueba\n",
    "X_train, X_test, y_train, y_test = train_test_split(\n",
    "    X, y, test_size=0.3, stratify=y, random_state=42\n",
    ")\n",
    "\n",
    "print(\"Distribución en entrenamiento:\", y_train.value_counts(normalize=True))\n",
    "print(\"Distribución en prueba:\", y_test.value_counts(normalize=True))\n"
   ]
  },
  {
   "cell_type": "code",
   "execution_count": 8,
   "metadata": {},
   "outputs": [
    {
     "name": "stdout",
     "output_type": "stream",
     "text": [
      "Clases después de SMOTE:\n",
      "APGAR2_BAJO\n",
      "0    6911\n",
      "1    6911\n",
      "Name: count, dtype: int64\n"
     ]
    }
   ],
   "source": [
    "smote = SMOTE(random_state=42)\n",
    "X_train_bal, y_train_bal = smote.fit_resample(X_train, y_train)\n",
    "\n",
    "print(\"Clases después de SMOTE:\")\n",
    "print(y_train_bal.value_counts())"
   ]
  },
  {
   "cell_type": "code",
   "execution_count": 10,
   "metadata": {},
   "outputs": [],
   "source": [
    "# Escalar solo variables numéricas\n",
    "numeric_cols = X.select_dtypes(include='number').columns\n",
    "\n",
    "scaler = StandardScaler()\n",
    "X_train_bal_scaled = scaler.fit_transform(X_train_bal[numeric_cols])\n",
    "X_test_scaled = scaler.transform(X_test[numeric_cols])"
   ]
  },
  {
   "cell_type": "code",
   "execution_count": 11,
   "metadata": {},
   "outputs": [],
   "source": [
    "# Convertir a DataFrame\n",
    "X_train_bal_scaled = pd.DataFrame(X_train_bal_scaled, columns=numeric_cols, index=X_train_bal.index)\n",
    "X_test_scaled = pd.DataFrame(X_test_scaled, columns=numeric_cols, index=X_test.index)\n",
    "\n",
    "# Concatenar columnas no numéricas (dummies)\n",
    "X_train_bal_scaled = pd.concat([X_train_bal_scaled, X_train_bal.drop(columns=numeric_cols)], axis=1)\n",
    "X_test_scaled = pd.concat([X_test_scaled, X_test.drop(columns=numeric_cols)], axis=1)"
   ]
  },
  {
   "cell_type": "code",
   "execution_count": 13,
   "metadata": {},
   "outputs": [],
   "source": [
    "cv = StratifiedKFold(n_splits=5, shuffle=True, random_state=42)\n"
   ]
  },
  {
   "cell_type": "markdown",
   "metadata": {},
   "source": [
    "MODELOS SUPERVISADOS"
   ]
  },
  {
   "cell_type": "code",
   "execution_count": 15,
   "metadata": {},
   "outputs": [],
   "source": [
    "from sklearn.linear_model import LogisticRegression\n",
    "from sklearn.ensemble import RandomForestClassifier\n",
    "from sklearn.svm import SVC\n",
    "from sklearn.neighbors import KNeighborsClassifier\n",
    "\n",
    "from sklearn.metrics import accuracy_score, precision_score, recall_score, f1_score\n",
    "from sklearn.model_selection import cross_val_score"
   ]
  },
  {
   "cell_type": "code",
   "execution_count": 16,
   "metadata": {},
   "outputs": [],
   "source": [
    "# Diccionario de modelos supervisados\n",
    "modelos = {\n",
    "    'Logistic Regression': LogisticRegression(class_weight='balanced', random_state=42, max_iter=1000),\n",
    "    'Random Forest': RandomForestClassifier(class_weight='balanced', random_state=42),\n",
    "    'SVM': SVC(class_weight='balanced', probability=True, random_state=42),\n",
    "    'KNN': KNeighborsClassifier()\n",
    "}"
   ]
  },
  {
   "cell_type": "code",
   "execution_count": 17,
   "metadata": {},
   "outputs": [],
   "source": [
    "# Función para entrenar, predecir y evaluar\n",
    "def evaluar_modelo(nombre, modelo, X_train, X_test, y_train, y_test):\n",
    "    print(f\"\\n🔍 Evaluando modelo: {nombre}\")\n",
    "    \n",
    "    # Entrenamiento\n",
    "    modelo.fit(X_train, y_train)\n",
    "    \n",
    "    # Predicción\n",
    "    y_pred = modelo.predict(X_test)\n",
    "    \n",
    "    # Cálculo de métricas\n",
    "    acc = accuracy_score(y_test, y_pred)\n",
    "    prec = precision_score(y_test, y_pred)\n",
    "    rec = recall_score(y_test, y_pred)\n",
    "    f1 = f1_score(y_test, y_pred)\n",
    "\n",
    "    print(f\"Accuracy:  {acc:.4f}\")\n",
    "    print(f\"Precision: {prec:.4f}\")\n",
    "    print(f\"Recall:    {rec:.4f}\")\n",
    "    print(f\"F1-score:  {f1:.4f}\")\n",
    "    \n",
    "    return {\n",
    "        'Modelo': nombre,\n",
    "        'Accuracy': acc,\n",
    "        'Precision': prec,\n",
    "        'Recall': rec,\n",
    "        'F1-score': f1\n",
    "    }"
   ]
  },
  {
   "cell_type": "code",
   "execution_count": 18,
   "metadata": {},
   "outputs": [
    {
     "name": "stdout",
     "output_type": "stream",
     "text": [
      "\n",
      "🔍 Evaluando modelo: Logistic Regression\n",
      "Accuracy:  0.9737\n",
      "Precision: 0.3475\n",
      "Recall:    0.9535\n",
      "F1-score:  0.5093\n",
      "\n",
      "🔍 Evaluando modelo: Random Forest\n",
      "Accuracy:  0.9807\n",
      "Precision: 0.3913\n",
      "Recall:    0.6279\n",
      "F1-score:  0.4821\n",
      "\n",
      "🔍 Evaluando modelo: SVM\n",
      "Accuracy:  0.9767\n",
      "Precision: 0.3516\n",
      "Recall:    0.7442\n",
      "F1-score:  0.4776\n",
      "\n",
      "🔍 Evaluando modelo: KNN\n",
      "Accuracy:  0.9747\n",
      "Precision: 0.3059\n",
      "Recall:    0.6047\n",
      "F1-score:  0.4062\n"
     ]
    }
   ],
   "source": [
    "# Lista para almacenar resultados\n",
    "resultados_modelos = []\n",
    "\n",
    "# Evaluar todos los modelos\n",
    "for nombre, modelo in modelos.items():\n",
    "    resultado = evaluar_modelo(nombre, modelo, X_train_bal_scaled, X_test_scaled, y_train_bal, y_test)\n",
    "    resultados_modelos.append(resultado)"
   ]
  },
  {
   "cell_type": "code",
   "execution_count": 19,
   "metadata": {},
   "outputs": [],
   "source": [
    "# Mostrar resultados en tabla\n",
    "import pandas as pd\n",
    "df_resultados = pd.DataFrame(resultados_modelos)\n",
    "df_resultados.sort_values(by='F1-score', ascending=False, inplace=True)"
   ]
  },
  {
   "cell_type": "code",
   "execution_count": 20,
   "metadata": {},
   "outputs": [
    {
     "name": "stdout",
     "output_type": "stream",
     "text": [
      "\n",
      "📊 Comparación de modelos supervisados:\n"
     ]
    },
    {
     "data": {
      "text/html": [
       "<div>\n",
       "<style scoped>\n",
       "    .dataframe tbody tr th:only-of-type {\n",
       "        vertical-align: middle;\n",
       "    }\n",
       "\n",
       "    .dataframe tbody tr th {\n",
       "        vertical-align: top;\n",
       "    }\n",
       "\n",
       "    .dataframe thead th {\n",
       "        text-align: right;\n",
       "    }\n",
       "</style>\n",
       "<table border=\"1\" class=\"dataframe\">\n",
       "  <thead>\n",
       "    <tr style=\"text-align: right;\">\n",
       "      <th></th>\n",
       "      <th>Modelo</th>\n",
       "      <th>Accuracy</th>\n",
       "      <th>Precision</th>\n",
       "      <th>Recall</th>\n",
       "      <th>F1-score</th>\n",
       "    </tr>\n",
       "  </thead>\n",
       "  <tbody>\n",
       "    <tr>\n",
       "      <th>0</th>\n",
       "      <td>Logistic Regression</td>\n",
       "      <td>0.973710</td>\n",
       "      <td>0.347458</td>\n",
       "      <td>0.953488</td>\n",
       "      <td>0.509317</td>\n",
       "    </tr>\n",
       "    <tr>\n",
       "      <th>1</th>\n",
       "      <td>Random Forest</td>\n",
       "      <td>0.980699</td>\n",
       "      <td>0.391304</td>\n",
       "      <td>0.627907</td>\n",
       "      <td>0.482143</td>\n",
       "    </tr>\n",
       "    <tr>\n",
       "      <th>2</th>\n",
       "      <td>SVM</td>\n",
       "      <td>0.976705</td>\n",
       "      <td>0.351648</td>\n",
       "      <td>0.744186</td>\n",
       "      <td>0.477612</td>\n",
       "    </tr>\n",
       "    <tr>\n",
       "      <th>3</th>\n",
       "      <td>KNN</td>\n",
       "      <td>0.974709</td>\n",
       "      <td>0.305882</td>\n",
       "      <td>0.604651</td>\n",
       "      <td>0.406250</td>\n",
       "    </tr>\n",
       "  </tbody>\n",
       "</table>\n",
       "</div>"
      ],
      "text/plain": [
       "                Modelo  Accuracy  Precision    Recall  F1-score\n",
       "0  Logistic Regression  0.973710   0.347458  0.953488  0.509317\n",
       "1        Random Forest  0.980699   0.391304  0.627907  0.482143\n",
       "2                  SVM  0.976705   0.351648  0.744186  0.477612\n",
       "3                  KNN  0.974709   0.305882  0.604651  0.406250"
      ]
     },
     "metadata": {},
     "output_type": "display_data"
    }
   ],
   "source": [
    "print(\"\\n📊 Comparación de modelos supervisados:\")\n",
    "display(df_resultados)"
   ]
  },
  {
   "cell_type": "markdown",
   "metadata": {},
   "source": [
    "Métodos de ensamble"
   ]
  },
  {
   "cell_type": "code",
   "execution_count": 21,
   "metadata": {},
   "outputs": [],
   "source": [
    "from sklearn.ensemble import BaggingClassifier, GradientBoostingClassifier, VotingClassifier"
   ]
  },
  {
   "cell_type": "code",
   "execution_count": 22,
   "metadata": {},
   "outputs": [],
   "source": [
    "# 1. Bagging con árbol base (Random Forest es una forma de bagging)\n",
    "bagging = BaggingClassifier(\n",
    "    estimator=RandomForestClassifier(random_state=42),\n",
    "    n_estimators=10,\n",
    "    random_state=42\n",
    ")"
   ]
  },
  {
   "cell_type": "code",
   "execution_count": 23,
   "metadata": {},
   "outputs": [],
   "source": [
    "# 2. Boosting (Gradient Boosting)\n",
    "boosting = GradientBoostingClassifier(n_estimators=100, learning_rate=0.1, random_state=42)"
   ]
  },
  {
   "cell_type": "code",
   "execution_count": 24,
   "metadata": {},
   "outputs": [],
   "source": [
    "# 3. Voting (combinación de modelos base)\n",
    "voting = VotingClassifier(\n",
    "    estimators=[\n",
    "        ('lr', LogisticRegression(class_weight='balanced', max_iter=1000, random_state=42)),\n",
    "        ('rf', RandomForestClassifier(class_weight='balanced', random_state=42)),\n",
    "        ('svc', SVC(probability=True, class_weight='balanced', random_state=42))\n",
    "    ],\n",
    "    voting='soft'\n",
    ")"
   ]
  },
  {
   "cell_type": "code",
   "execution_count": 25,
   "metadata": {},
   "outputs": [],
   "source": [
    "# Diccionario de modelos de ensamble\n",
    "ensambles = {\n",
    "    'Bagging': bagging,\n",
    "    'Boosting': boosting,\n",
    "    'Voting': voting\n",
    "}"
   ]
  },
  {
   "cell_type": "code",
   "execution_count": 26,
   "metadata": {},
   "outputs": [
    {
     "name": "stdout",
     "output_type": "stream",
     "text": [
      "\n",
      "🔍 Evaluando modelo: Bagging\n",
      "Accuracy:  0.9810\n",
      "Precision: 0.4079\n",
      "Recall:    0.7209\n",
      "F1-score:  0.5210\n",
      "\n",
      "🔍 Evaluando modelo: Boosting\n",
      "Accuracy:  0.9807\n",
      "Precision: 0.4157\n",
      "Recall:    0.8605\n",
      "F1-score:  0.5606\n",
      "\n",
      "🔍 Evaluando modelo: Voting\n",
      "Accuracy:  0.9804\n",
      "Precision: 0.4070\n",
      "Recall:    0.8140\n",
      "F1-score:  0.5426\n"
     ]
    }
   ],
   "source": [
    "resultados_ensambles = []\n",
    "\n",
    "# Evaluar modelos de ensamble\n",
    "for nombre, modelo in ensambles.items():\n",
    "    resultado = evaluar_modelo(nombre, modelo, X_train_bal_scaled, X_test_scaled, y_train_bal, y_test)\n",
    "    resultados_ensambles.append(resultado)"
   ]
  },
  {
   "cell_type": "code",
   "execution_count": 27,
   "metadata": {},
   "outputs": [
    {
     "name": "stdout",
     "output_type": "stream",
     "text": [
      "\n",
      "📊 Comparación de métodos de ensamble:\n"
     ]
    },
    {
     "data": {
      "text/html": [
       "<div>\n",
       "<style scoped>\n",
       "    .dataframe tbody tr th:only-of-type {\n",
       "        vertical-align: middle;\n",
       "    }\n",
       "\n",
       "    .dataframe tbody tr th {\n",
       "        vertical-align: top;\n",
       "    }\n",
       "\n",
       "    .dataframe thead th {\n",
       "        text-align: right;\n",
       "    }\n",
       "</style>\n",
       "<table border=\"1\" class=\"dataframe\">\n",
       "  <thead>\n",
       "    <tr style=\"text-align: right;\">\n",
       "      <th></th>\n",
       "      <th>Modelo</th>\n",
       "      <th>Accuracy</th>\n",
       "      <th>Precision</th>\n",
       "      <th>Recall</th>\n",
       "      <th>F1-score</th>\n",
       "    </tr>\n",
       "  </thead>\n",
       "  <tbody>\n",
       "    <tr>\n",
       "      <th>1</th>\n",
       "      <td>Boosting</td>\n",
       "      <td>0.980699</td>\n",
       "      <td>0.415730</td>\n",
       "      <td>0.860465</td>\n",
       "      <td>0.560606</td>\n",
       "    </tr>\n",
       "    <tr>\n",
       "      <th>2</th>\n",
       "      <td>Voting</td>\n",
       "      <td>0.980366</td>\n",
       "      <td>0.406977</td>\n",
       "      <td>0.813953</td>\n",
       "      <td>0.542636</td>\n",
       "    </tr>\n",
       "    <tr>\n",
       "      <th>0</th>\n",
       "      <td>Bagging</td>\n",
       "      <td>0.981032</td>\n",
       "      <td>0.407895</td>\n",
       "      <td>0.720930</td>\n",
       "      <td>0.521008</td>\n",
       "    </tr>\n",
       "  </tbody>\n",
       "</table>\n",
       "</div>"
      ],
      "text/plain": [
       "     Modelo  Accuracy  Precision    Recall  F1-score\n",
       "1  Boosting  0.980699   0.415730  0.860465  0.560606\n",
       "2    Voting  0.980366   0.406977  0.813953  0.542636\n",
       "0   Bagging  0.981032   0.407895  0.720930  0.521008"
      ]
     },
     "metadata": {},
     "output_type": "display_data"
    }
   ],
   "source": [
    "# Mostrar resultados\n",
    "df_ensambles = pd.DataFrame(resultados_ensambles)\n",
    "df_ensambles.sort_values(by='F1-score', ascending=False, inplace=True)\n",
    "\n",
    "print(\"\\n📊 Comparación de métodos de ensamble:\")\n",
    "display(df_ensambles)"
   ]
  },
  {
   "cell_type": "code",
   "execution_count": 29,
   "metadata": {},
   "outputs": [
    {
     "data": {
      "image/png": "[encoded data removed]",
      "text/plain": [
       "<Figure size 1200x600 with 1 Axes>"
      ]
     },
     "metadata": {},
     "output_type": "display_data"
    }
   ],
   "source": [
    "# Unir resultados supervisados y ensambles\n",
    "df_todos = pd.concat([df_resultados, df_ensambles], ignore_index=True)\n",
    "\n",
    "# Derretir para graficar con seaborn\n",
    "df_melt = df_todos.melt(id_vars='Modelo', var_name='Métrica', value_name='Valor')\n",
    "plt.figure(figsize=(12, 6))\n",
    "sns.barplot(data=df_melt, x='Modelo', y='Valor', hue='Métrica')\n",
    "plt.title(\"Comparación de modelos por métricas\")\n",
    "plt.xticks(rotation=45)\n",
    "plt.legend(loc='lower right')\n",
    "plt.tight_layout()\n",
    "plt.show()"
   ]
  },
  {
   "cell_type": "markdown",
   "metadata": {},
   "source": [
    "\n",
    "🔍 Interpretación de resultados:\n",
    "\n",
    "Se compararon 4 modelos de aprendizaje supervisado (Logistic Regression, Random Forest, SVM, KNN)\n",
    "y 3 métodos de ensamble (Bagging, Boosting, Voting), todos evaluados con validación cruzada\n",
    "y con los datos balanceados (solo el 70% del conjunto de entrenamiento).\n",
    "\n",
    "Las métricas consideradas fueron:\n",
    "- Accuracy: proporción de aciertos generales.\n",
    "- Precision: proporción de predicciones positivas que fueron correctas.\n",
    "- Recall: proporción de verdaderos positivos correctamente detectados (prioridad en este contexto clínico).\n",
    "- F1-score: balance entre precisión y recall.\n",
    "\n",
    "📌 Modelos destacados:\n",
    "- [Modelo X] obtuvo el mejor F1-score.\n",
    "- [Modelo Y] mostró mayor Recall, lo cual es especialmente importante dado el enfoque en identificar recién nacidos en riesgo (APGAR2 < 7).\n",
    "- Los métodos de ensamble en general mejoraron la estabilidad y sensibilidad del modelo.\n",
    "\n",
    "🔚 Conclusión:\n",
    "Se seleccionó el modelo [Nombre] como el mejor para este problema, debido a su capacidad de detectar con mayor eficacia los casos críticos,\n",
    "manteniendo un buen equilibrio entre precisión y recall.\n"
   ]
  }
 ],
 "metadata": {
  "kernelspec": {
   "display_name": "Python 3",
   "language": "python",
   "name": "python3"
  },
  "language_info": {
   "codemirror_mode": {
    "name": "ipython",
    "version": 3
   },
   "file_extension": ".py",
   "mimetype": "text/x-python",
   "name": "python",
   "nbconvert_exporter": "python",
   "pygments_lexer": "ipython3",
   "version": "3.13.3"
  }
 },
 "nbformat": 4,
 "nbformat_minor": 2
}
