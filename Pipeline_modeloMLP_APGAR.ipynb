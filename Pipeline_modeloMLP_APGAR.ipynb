{
  "nbformat": 4,
  "nbformat_minor": 0,
  "metadata": {
    "colab": {
      "provenance": []
    },
    "kernelspec": {
      "name": "python3",
      "display_name": "Python 3"
    },
    "language_info": {
      "name": "python"
    }
  },
  "cells": [
    {
      "cell_type": "code",
      "execution_count": 1,
      "metadata": {
        "id": "09nDCjsFB3iA"
      },
      "outputs": [],
      "source": [
        "#Importamos las librerías necesarias\n",
        "import pandas as pd\n",
        "import joblib\n",
        "from sklearn.pipeline import Pipeline\n",
        "from sklearn.compose import ColumnTransformer\n",
        "from sklearn.preprocessing import OneHotEncoder, StandardScaler\n",
        "from sklearn.impute import SimpleImputer\n",
        "from sklearn.neural_network import MLPRegressor"
      ]
    },
    {
      "cell_type": "code",
      "source": [
        "#Caragamos el mejor modelo (ya entrenado)\n",
        "modelo_mlp=joblib.load('/content/modelo_mlp_final.pkl')"
      ],
      "metadata": {
        "id": "IOZQzxmRDaAw"
      },
      "execution_count": 2,
      "outputs": []
    },
    {
      "cell_type": "code",
      "source": [
        "#Cargamos los datos para determinar el procesamiento\n",
        "X_train = pd.read_csv('/content/X_train.csv')\n"
      ],
      "metadata": {
        "id": "o1rXaVs0ENT8"
      },
      "execution_count": 3,
      "outputs": []
    },
    {
      "cell_type": "code",
      "source": [
        "#Detectamos los tipos de colomnas\n",
        "num_cols = X_train.select_dtypes(include=['int64', 'float64']).columns.tolist()\n",
        "cat_cols = X_train.select_dtypes(include=['object', 'category']).columns.tolist()"
      ],
      "metadata": {
        "id": "6egEq-NGs1An"
      },
      "execution_count": 4,
      "outputs": []
    },
    {
      "cell_type": "code",
      "source": [
        "#Creamos los transformadores\n",
        "numeric_transformer = Pipeline(steps=[\n",
        "    (\"imputer\", SimpleImputer(strategy=\"median\")),\n",
        "    (\"scaler\", StandardScaler())\n",
        "])\n",
        "categorical_transformer = Pipeline(steps=[\n",
        "    (\"imputer\", SimpleImputer(strategy=\"most_frequent\")),\n",
        "    (\"encoder\", OneHotEncoder(handle_unknown=\"ignore\"))\n",
        "])\n",
        "\n",
        "preprocessor = ColumnTransformer(transformers=[\n",
        "    (\"num\", numeric_transformer, num_cols),\n",
        "    (\"cat\", categorical_transformer, cat_cols)\n",
        "])"
      ],
      "metadata": {
        "id": "QN5T93rAs55P"
      },
      "execution_count": 5,
      "outputs": []
    },
    {
      "cell_type": "code",
      "source": [
        "#Creamos el pipeline completo\n",
        "pipeline_final = Pipeline(steps=[\n",
        "    (\"preprocessor\", preprocessor),\n",
        "    (\"mlp_model\", modelo_mlp)\n",
        "])"
      ],
      "metadata": {
        "id": "rC0P1WAetA1N"
      },
      "execution_count": 6,
      "outputs": []
    },
    {
      "cell_type": "code",
      "source": [
        "#Guardamos el pipeline para el despliegue\n",
        "joblib.dump(pipeline_final, \"pipeline_mlp_deployment.pkl\")"
      ],
      "metadata": {
        "colab": {
          "base_uri": "https://localhost:8080/"
        },
        "id": "tJPHrXzrtVo_",
        "outputId": "24ade518-19c9-4977-9761-dda48369078b"
      },
      "execution_count": 7,
      "outputs": [
        {
          "output_type": "execute_result",
          "data": {
            "text/plain": [
              "['pipeline_mlp_deployment.pkl']"
            ]
          },
          "metadata": {},
          "execution_count": 7
        }
      ]
    }
  ]
}